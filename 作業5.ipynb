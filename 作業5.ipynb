{
 "cells": [
  {
   "cell_type": "code",
   "execution_count": 1,
   "id": "2d628677",
   "metadata": {},
   "outputs": [
    {
     "name": "stdout",
     "output_type": "stream",
     "text": [
      "目前購物車數量: 1\n",
      "目前購物車數量: 2\n"
     ]
    }
   ],
   "source": [
    "# 模擬購物車數量的變化\n",
    "cart_quantity = 0  # 初始購物車數量\n",
    "\n",
    "def add_to_cart():\n",
    "    global cart_quantity\n",
    "    cart_quantity += 1  # 每次點擊按鈕，購物車數量增加 1\n",
    "    print(f\"目前購物車數量: {cart_quantity}\")\n",
    "\n",
    "# 模擬點擊按鈕兩次\n",
    "add_to_cart()  # 第一次點擊\n",
    "add_to_cart()  # 第二次點擊\n"
   ]
  },
  {
   "cell_type": "code",
   "execution_count": null,
   "id": "237967da",
   "metadata": {},
   "outputs": [],
   "source": []
  }
 ],
 "metadata": {
  "kernelspec": {
   "display_name": "Python 3 (ipykernel)",
   "language": "python",
   "name": "python3"
  },
  "language_info": {
   "codemirror_mode": {
    "name": "ipython",
    "version": 3
   },
   "file_extension": ".py",
   "mimetype": "text/x-python",
   "name": "python",
   "nbconvert_exporter": "python",
   "pygments_lexer": "ipython3",
   "version": "3.10.14"
  }
 },
 "nbformat": 4,
 "nbformat_minor": 5
}
